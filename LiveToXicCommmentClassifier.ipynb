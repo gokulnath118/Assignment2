{
  "nbformat": 4,
  "nbformat_minor": 0,
  "metadata": {
    "colab": {
      "provenance": [],
      "gpuType": "T4"
    },
    "kernelspec": {
      "name": "python3",
      "display_name": "Python 3"
    },
    "language_info": {
      "name": "python"
    },
    "accelerator": "GPU"
  },
  "cells": [
    {
      "cell_type": "code",
      "execution_count": 46,
      "metadata": {
        "id": "hr3oWQs0nE8Z"
      },
      "outputs": [],
      "source": [
        "import pandas as pd\n",
        "import numpy as np"
      ]
    },
    {
      "cell_type": "code",
      "source": [
        "train=pd.read_csv(\"/content/drive/MyDrive/DeepLearning/Allcomments.csv\")\n",
        "train.head()"
      ],
      "metadata": {
        "id": "_unk032QnTZx",
        "colab": {
          "base_uri": "https://localhost:8080/",
          "height": 206
        },
        "outputId": "71d5d9b3-6f7b-4ad4-eef6-fd2d0cf21e97"
      },
      "execution_count": 47,
      "outputs": [
        {
          "output_type": "execute_result",
          "data": {
            "text/plain": [
              "                                                text  class\n",
              "0                                       Cry more 😂😂😂      0\n",
              "1                                     Tumnus grumlin      0\n",
              "2  <a href=\"https://www.youtube.com/watch?v=UZR1V...      0\n",
              "3                                            1 53 10      1\n",
              "4        Literally 1 day 1 crore in youtube views 😮😮      0"
            ],
            "text/html": [
              "\n",
              "  <div id=\"df-826ee860-ba03-4d82-8883-75cd683bbdb2\" class=\"colab-df-container\">\n",
              "    <div>\n",
              "<style scoped>\n",
              "    .dataframe tbody tr th:only-of-type {\n",
              "        vertical-align: middle;\n",
              "    }\n",
              "\n",
              "    .dataframe tbody tr th {\n",
              "        vertical-align: top;\n",
              "    }\n",
              "\n",
              "    .dataframe thead th {\n",
              "        text-align: right;\n",
              "    }\n",
              "</style>\n",
              "<table border=\"1\" class=\"dataframe\">\n",
              "  <thead>\n",
              "    <tr style=\"text-align: right;\">\n",
              "      <th></th>\n",
              "      <th>text</th>\n",
              "      <th>class</th>\n",
              "    </tr>\n",
              "  </thead>\n",
              "  <tbody>\n",
              "    <tr>\n",
              "      <th>0</th>\n",
              "      <td>Cry more 😂😂😂</td>\n",
              "      <td>0</td>\n",
              "    </tr>\n",
              "    <tr>\n",
              "      <th>1</th>\n",
              "      <td>Tumnus grumlin</td>\n",
              "      <td>0</td>\n",
              "    </tr>\n",
              "    <tr>\n",
              "      <th>2</th>\n",
              "      <td>&lt;a href=\"https://www.youtube.com/watch?v=UZR1V...</td>\n",
              "      <td>0</td>\n",
              "    </tr>\n",
              "    <tr>\n",
              "      <th>3</th>\n",
              "      <td>1 53 10</td>\n",
              "      <td>1</td>\n",
              "    </tr>\n",
              "    <tr>\n",
              "      <th>4</th>\n",
              "      <td>Literally 1 day 1 crore in youtube views 😮😮</td>\n",
              "      <td>0</td>\n",
              "    </tr>\n",
              "  </tbody>\n",
              "</table>\n",
              "</div>\n",
              "    <div class=\"colab-df-buttons\">\n",
              "\n",
              "  <div class=\"colab-df-container\">\n",
              "    <button class=\"colab-df-convert\" onclick=\"convertToInteractive('df-826ee860-ba03-4d82-8883-75cd683bbdb2')\"\n",
              "            title=\"Convert this dataframe to an interactive table.\"\n",
              "            style=\"display:none;\">\n",
              "\n",
              "  <svg xmlns=\"http://www.w3.org/2000/svg\" height=\"24px\" viewBox=\"0 -960 960 960\">\n",
              "    <path d=\"M120-120v-720h720v720H120Zm60-500h600v-160H180v160Zm220 220h160v-160H400v160Zm0 220h160v-160H400v160ZM180-400h160v-160H180v160Zm440 0h160v-160H620v160ZM180-180h160v-160H180v160Zm440 0h160v-160H620v160Z\"/>\n",
              "  </svg>\n",
              "    </button>\n",
              "\n",
              "  <style>\n",
              "    .colab-df-container {\n",
              "      display:flex;\n",
              "      gap: 12px;\n",
              "    }\n",
              "\n",
              "    .colab-df-convert {\n",
              "      background-color: #E8F0FE;\n",
              "      border: none;\n",
              "      border-radius: 50%;\n",
              "      cursor: pointer;\n",
              "      display: none;\n",
              "      fill: #1967D2;\n",
              "      height: 32px;\n",
              "      padding: 0 0 0 0;\n",
              "      width: 32px;\n",
              "    }\n",
              "\n",
              "    .colab-df-convert:hover {\n",
              "      background-color: #E2EBFA;\n",
              "      box-shadow: 0px 1px 2px rgba(60, 64, 67, 0.3), 0px 1px 3px 1px rgba(60, 64, 67, 0.15);\n",
              "      fill: #174EA6;\n",
              "    }\n",
              "\n",
              "    .colab-df-buttons div {\n",
              "      margin-bottom: 4px;\n",
              "    }\n",
              "\n",
              "    [theme=dark] .colab-df-convert {\n",
              "      background-color: #3B4455;\n",
              "      fill: #D2E3FC;\n",
              "    }\n",
              "\n",
              "    [theme=dark] .colab-df-convert:hover {\n",
              "      background-color: #434B5C;\n",
              "      box-shadow: 0px 1px 3px 1px rgba(0, 0, 0, 0.15);\n",
              "      filter: drop-shadow(0px 1px 2px rgba(0, 0, 0, 0.3));\n",
              "      fill: #FFFFFF;\n",
              "    }\n",
              "  </style>\n",
              "\n",
              "    <script>\n",
              "      const buttonEl =\n",
              "        document.querySelector('#df-826ee860-ba03-4d82-8883-75cd683bbdb2 button.colab-df-convert');\n",
              "      buttonEl.style.display =\n",
              "        google.colab.kernel.accessAllowed ? 'block' : 'none';\n",
              "\n",
              "      async function convertToInteractive(key) {\n",
              "        const element = document.querySelector('#df-826ee860-ba03-4d82-8883-75cd683bbdb2');\n",
              "        const dataTable =\n",
              "          await google.colab.kernel.invokeFunction('convertToInteractive',\n",
              "                                                    [key], {});\n",
              "        if (!dataTable) return;\n",
              "\n",
              "        const docLinkHtml = 'Like what you see? Visit the ' +\n",
              "          '<a target=\"_blank\" href=https://colab.research.google.com/notebooks/data_table.ipynb>data table notebook</a>'\n",
              "          + ' to learn more about interactive tables.';\n",
              "        element.innerHTML = '';\n",
              "        dataTable['output_type'] = 'display_data';\n",
              "        await google.colab.output.renderOutput(dataTable, element);\n",
              "        const docLink = document.createElement('div');\n",
              "        docLink.innerHTML = docLinkHtml;\n",
              "        element.appendChild(docLink);\n",
              "      }\n",
              "    </script>\n",
              "  </div>\n",
              "\n",
              "\n",
              "<div id=\"df-fdae973b-9d57-463f-bb09-6c196be25b78\">\n",
              "  <button class=\"colab-df-quickchart\" onclick=\"quickchart('df-fdae973b-9d57-463f-bb09-6c196be25b78')\"\n",
              "            title=\"Suggest charts.\"\n",
              "            style=\"display:none;\">\n",
              "\n",
              "<svg xmlns=\"http://www.w3.org/2000/svg\" height=\"24px\"viewBox=\"0 0 24 24\"\n",
              "     width=\"24px\">\n",
              "    <g>\n",
              "        <path d=\"M19 3H5c-1.1 0-2 .9-2 2v14c0 1.1.9 2 2 2h14c1.1 0 2-.9 2-2V5c0-1.1-.9-2-2-2zM9 17H7v-7h2v7zm4 0h-2V7h2v10zm4 0h-2v-4h2v4z\"/>\n",
              "    </g>\n",
              "</svg>\n",
              "  </button>\n",
              "\n",
              "<style>\n",
              "  .colab-df-quickchart {\n",
              "      --bg-color: #E8F0FE;\n",
              "      --fill-color: #1967D2;\n",
              "      --hover-bg-color: #E2EBFA;\n",
              "      --hover-fill-color: #174EA6;\n",
              "      --disabled-fill-color: #AAA;\n",
              "      --disabled-bg-color: #DDD;\n",
              "  }\n",
              "\n",
              "  [theme=dark] .colab-df-quickchart {\n",
              "      --bg-color: #3B4455;\n",
              "      --fill-color: #D2E3FC;\n",
              "      --hover-bg-color: #434B5C;\n",
              "      --hover-fill-color: #FFFFFF;\n",
              "      --disabled-bg-color: #3B4455;\n",
              "      --disabled-fill-color: #666;\n",
              "  }\n",
              "\n",
              "  .colab-df-quickchart {\n",
              "    background-color: var(--bg-color);\n",
              "    border: none;\n",
              "    border-radius: 50%;\n",
              "    cursor: pointer;\n",
              "    display: none;\n",
              "    fill: var(--fill-color);\n",
              "    height: 32px;\n",
              "    padding: 0;\n",
              "    width: 32px;\n",
              "  }\n",
              "\n",
              "  .colab-df-quickchart:hover {\n",
              "    background-color: var(--hover-bg-color);\n",
              "    box-shadow: 0 1px 2px rgba(60, 64, 67, 0.3), 0 1px 3px 1px rgba(60, 64, 67, 0.15);\n",
              "    fill: var(--button-hover-fill-color);\n",
              "  }\n",
              "\n",
              "  .colab-df-quickchart-complete:disabled,\n",
              "  .colab-df-quickchart-complete:disabled:hover {\n",
              "    background-color: var(--disabled-bg-color);\n",
              "    fill: var(--disabled-fill-color);\n",
              "    box-shadow: none;\n",
              "  }\n",
              "\n",
              "  .colab-df-spinner {\n",
              "    border: 2px solid var(--fill-color);\n",
              "    border-color: transparent;\n",
              "    border-bottom-color: var(--fill-color);\n",
              "    animation:\n",
              "      spin 1s steps(1) infinite;\n",
              "  }\n",
              "\n",
              "  @keyframes spin {\n",
              "    0% {\n",
              "      border-color: transparent;\n",
              "      border-bottom-color: var(--fill-color);\n",
              "      border-left-color: var(--fill-color);\n",
              "    }\n",
              "    20% {\n",
              "      border-color: transparent;\n",
              "      border-left-color: var(--fill-color);\n",
              "      border-top-color: var(--fill-color);\n",
              "    }\n",
              "    30% {\n",
              "      border-color: transparent;\n",
              "      border-left-color: var(--fill-color);\n",
              "      border-top-color: var(--fill-color);\n",
              "      border-right-color: var(--fill-color);\n",
              "    }\n",
              "    40% {\n",
              "      border-color: transparent;\n",
              "      border-right-color: var(--fill-color);\n",
              "      border-top-color: var(--fill-color);\n",
              "    }\n",
              "    60% {\n",
              "      border-color: transparent;\n",
              "      border-right-color: var(--fill-color);\n",
              "    }\n",
              "    80% {\n",
              "      border-color: transparent;\n",
              "      border-right-color: var(--fill-color);\n",
              "      border-bottom-color: var(--fill-color);\n",
              "    }\n",
              "    90% {\n",
              "      border-color: transparent;\n",
              "      border-bottom-color: var(--fill-color);\n",
              "    }\n",
              "  }\n",
              "</style>\n",
              "\n",
              "  <script>\n",
              "    async function quickchart(key) {\n",
              "      const quickchartButtonEl =\n",
              "        document.querySelector('#' + key + ' button');\n",
              "      quickchartButtonEl.disabled = true;  // To prevent multiple clicks.\n",
              "      quickchartButtonEl.classList.add('colab-df-spinner');\n",
              "      try {\n",
              "        const charts = await google.colab.kernel.invokeFunction(\n",
              "            'suggestCharts', [key], {});\n",
              "      } catch (error) {\n",
              "        console.error('Error during call to suggestCharts:', error);\n",
              "      }\n",
              "      quickchartButtonEl.classList.remove('colab-df-spinner');\n",
              "      quickchartButtonEl.classList.add('colab-df-quickchart-complete');\n",
              "    }\n",
              "    (() => {\n",
              "      let quickchartButtonEl =\n",
              "        document.querySelector('#df-fdae973b-9d57-463f-bb09-6c196be25b78 button');\n",
              "      quickchartButtonEl.style.display =\n",
              "        google.colab.kernel.accessAllowed ? 'block' : 'none';\n",
              "    })();\n",
              "  </script>\n",
              "</div>\n",
              "    </div>\n",
              "  </div>\n"
            ]
          },
          "metadata": {},
          "execution_count": 47
        }
      ]
    },
    {
      "cell_type": "code",
      "source": [
        "train.isnull().sum()"
      ],
      "metadata": {
        "colab": {
          "base_uri": "https://localhost:8080/"
        },
        "id": "Q8MYfMuptgG4",
        "outputId": "8de5653e-4f4e-4112-ede9-ec6d9c84c7b3"
      },
      "execution_count": 48,
      "outputs": [
        {
          "output_type": "execute_result",
          "data": {
            "text/plain": [
              "text     0\n",
              "class    0\n",
              "dtype: int64"
            ]
          },
          "metadata": {},
          "execution_count": 48
        }
      ]
    },
    {
      "cell_type": "code",
      "source": [
        "labels = train.iloc[:,0].to_numpy()\n",
        "labels"
      ],
      "metadata": {
        "colab": {
          "base_uri": "https://localhost:8080/"
        },
        "id": "bm34i7hytgKZ",
        "outputId": "a3292948-3089-4658-9efa-8eba4395cdd5"
      },
      "execution_count": 49,
      "outputs": [
        {
          "output_type": "execute_result",
          "data": {
            "text/plain": [
              "array(['Cry more 😂😂😂', 'Tumnus grumlin',\n",
              "       '<a href=\"https://www.youtube.com/watch?v=UZR1Vk1DQ24&amp;t=54m20s\">54:20</a> speed I&#39;m Messi fans 🙆🏾\\u200d♂️',\n",
              "       ..., 'Eeeeeee', '1', 'First'], dtype=object)"
            ]
          },
          "metadata": {},
          "execution_count": 49
        }
      ]
    },
    {
      "cell_type": "code",
      "source": [
        "train_sentences = train[\"text\"]\n",
        "train_labels = train.iloc[:, 1]\n",
        "\n",
        "print(f\"Train sentences: {train_sentences.shape}\")\n",
        "print(f\"Train labels: {train_labels.shape}\")"
      ],
      "metadata": {
        "colab": {
          "base_uri": "https://localhost:8080/"
        },
        "id": "g1YcuFwJtgEW",
        "outputId": "1d56762e-99df-4294-9f00-2f930d9deb83"
      },
      "execution_count": 50,
      "outputs": [
        {
          "output_type": "stream",
          "name": "stdout",
          "text": [
            "Train sentences: (41180,)\n",
            "Train labels: (41180,)\n"
          ]
        }
      ]
    },
    {
      "cell_type": "code",
      "source": [
        "from sklearn.model_selection import train_test_split\n",
        "train_sentences, val_sentences, train_labels, val_labels = train_test_split(\n",
        "    train_sentences,\n",
        "    train_labels,\n",
        "    train_size=0.8\n",
        ")\n",
        "print(f\"Train sentences: {train_sentences.shape}\")\n",
        "print(f\"Train labels: {train_labels.shape}\")\n",
        "print(f\"Validation sentences: {val_sentences.shape}\")\n",
        "print(f\"Validation labels: {val_labels.shape}\")"
      ],
      "metadata": {
        "colab": {
          "base_uri": "https://localhost:8080/"
        },
        "id": "Wvh9WjAzuAlY",
        "outputId": "1e0dd84c-ad61-4bde-c360-fa3414fe5852"
      },
      "execution_count": 51,
      "outputs": [
        {
          "output_type": "stream",
          "name": "stdout",
          "text": [
            "Train sentences: (32944,)\n",
            "Train labels: (32944,)\n",
            "Validation sentences: (8236,)\n",
            "Validation labels: (8236,)\n"
          ]
        }
      ]
    },
    {
      "cell_type": "code",
      "source": [
        "train_sentences"
      ],
      "metadata": {
        "colab": {
          "base_uri": "https://localhost:8080/"
        },
        "id": "toVN6euDtgBm",
        "outputId": "b9ca5f7d-cfd2-4f1d-b95f-ed0029ff0274"
      },
      "execution_count": 52,
      "outputs": [
        {
          "output_type": "execute_result",
          "data": {
            "text/plain": [
              "28663    They just casually glossed over the fact that ...\n",
              "33215    This was one amazing video (I just wish Harry ...\n",
              "8433     <a href=\"https://www.youtube.com/watch?v=m7YST...\n",
              "18659                                Last woman insta pls?\n",
              "22077                                     Damnnn speed 😂😂😂\n",
              "                               ...                        \n",
              "6645                           speed is such a troll lmfao\n",
              "16412    <a href=\"https://www.youtube.com/watch?v=m7YST...\n",
              "565      el único bicholovers que respeto, porque el re...\n",
              "6659                         Me watching this second time❤\n",
              "32741         Watching this feels like being in a delirium\n",
              "Name: text, Length: 32944, dtype: object"
            ]
          },
          "metadata": {},
          "execution_count": 52
        }
      ]
    },
    {
      "cell_type": "code",
      "source": [
        "import string\n",
        "\n",
        "def remove_punctuation(text):\n",
        "    return text.translate(str.maketrans(\"\", \"\", string.punctuation))\n",
        "\n",
        "def remove_special_chars(text):\n",
        "    return text.replace(\"\\n\", \" \").replace(\"\\t\", \" \").strip()\n",
        "\n",
        "def normalize_spacing(text):\n",
        "    return \" \".join(text.split())\n",
        "\n",
        "def process_text(text):\n",
        "    text = remove_punctuation(text)\n",
        "    text = remove_special_chars(text)\n",
        "    text = normalize_spacing(text)\n",
        "    return text\n"
      ],
      "metadata": {
        "id": "kD0-KL8Ktf9M"
      },
      "execution_count": 53,
      "outputs": []
    },
    {
      "cell_type": "code",
      "source": [
        "# apply preprocessing\n",
        "train_sentences = train_sentences.map(process_text)\n",
        "val_sentences = val_sentences.map(process_text)"
      ],
      "metadata": {
        "id": "5VDwOwJztf26"
      },
      "execution_count": 54,
      "outputs": []
    },
    {
      "cell_type": "code",
      "source": [
        "# before we continue, let's get some info about the word count for the sentences\n",
        "print(\"Word count statistics:\\n\")\n",
        "train_sentences.apply(len).describe()"
      ],
      "metadata": {
        "colab": {
          "base_uri": "https://localhost:8080/"
        },
        "id": "JGUbq1eruJH0",
        "outputId": "3988c136-0616-4ef8-b711-2bd72155eb43"
      },
      "execution_count": 55,
      "outputs": [
        {
          "output_type": "stream",
          "name": "stdout",
          "text": [
            "Word count statistics:\n",
            "\n"
          ]
        },
        {
          "output_type": "execute_result",
          "data": {
            "text/plain": [
              "count    32944.000000\n",
              "mean        46.320392\n",
              "std        111.949126\n",
              "min          0.000000\n",
              "25%         18.000000\n",
              "50%         34.000000\n",
              "75%         59.000000\n",
              "max       6719.000000\n",
              "Name: text, dtype: float64"
            ]
          },
          "metadata": {},
          "execution_count": 55
        }
      ]
    },
    {
      "cell_type": "code",
      "source": [
        "# convert Pandas series to NumPy arrays\n",
        "train_sentences = train_sentences.to_numpy()\n",
        "train_labels = train_labels.to_numpy()\n",
        "val_sentences = val_sentences.to_numpy()\n",
        "val_labels = val_labels.to_numpy()"
      ],
      "metadata": {
        "id": "1w84p6hDuJEZ"
      },
      "execution_count": 56,
      "outputs": []
    },
    {
      "cell_type": "code",
      "source": [
        "# much better!\n",
        "train_sentences"
      ],
      "metadata": {
        "colab": {
          "base_uri": "https://localhost:8080/"
        },
        "id": "XFwEyuVnuJCw",
        "outputId": "26a84ecd-2bc9-4e44-c7f9-3a1ab7ac94b2"
      },
      "execution_count": 57,
      "outputs": [
        {
          "output_type": "execute_result",
          "data": {
            "text/plain": [
              "array(['They just casually glossed over the fact that speed is the first man in 20v1 history to not have a single girl leave btw',\n",
              "       'This was one amazing video I just wish Harry was part of it',\n",
              "       'a hrefhttpswwwyoutubecomwatchvm7YSTtiPMl4ampt12m39s1239a someone had to say it',\n",
              "       ...,\n",
              "       'el único bicholovers que respeto porque el respeta a messi el como yo eligió a su ídolo yo al goat messi y respeto solo a cr7 y speed eligió a cr7 y respeta al goat messi',\n",
              "       'Me watching this second time❤',\n",
              "       'Watching this feels like being in a delirium'], dtype=object)"
            ]
          },
          "metadata": {},
          "execution_count": 57
        }
      ]
    },
    {
      "cell_type": "code",
      "source": [
        "vocab = set()\n",
        "for sentence in train_sentences:\n",
        "    for word in sentence.split():\n",
        "        vocab.add(word)\n",
        "\n",
        "vocab_size = len(vocab)\n",
        "print(f\"Vocab size: {vocab_size}\")"
      ],
      "metadata": {
        "colab": {
          "base_uri": "https://localhost:8080/"
        },
        "id": "awod9ZV9uJBN",
        "outputId": "70b2ca62-737a-44f6-9cbf-74925fa042ff"
      },
      "execution_count": 58,
      "outputs": [
        {
          "output_type": "stream",
          "name": "stdout",
          "text": [
            "Vocab size: 26847\n"
          ]
        }
      ]
    },
    {
      "cell_type": "code",
      "source": [
        "vocab_size=10000"
      ],
      "metadata": {
        "id": "CaHxZHUduI-d"
      },
      "execution_count": 59,
      "outputs": []
    },
    {
      "cell_type": "code",
      "source": [
        "from tensorflow.keras.preprocessing.text import Tokenizer\n",
        "from tensorflow.keras.preprocessing.sequence import pad_sequences\n",
        "\n",
        "tokenizer = Tokenizer(num_words=vocab_size)\n",
        "tokenizer.fit_on_texts(train_sentences)"
      ],
      "metadata": {
        "id": "q6RnxRSNuI72"
      },
      "execution_count": 60,
      "outputs": []
    },
    {
      "cell_type": "code",
      "source": [
        "import pickle\n",
        "# Assuming 'tokenizer' is your tokenizer object\n",
        "with open('/content/drive/MyDrive/dl/tokenizer.pickle', 'wb') as handle:\n",
        "    pickle.dump(tokenizer, handle, protocol=pickle.HIGHEST_PROTOCOL)"
      ],
      "metadata": {
        "id": "H9MbKZFAx-_z"
      },
      "execution_count": 65,
      "outputs": []
    },
    {
      "cell_type": "code",
      "source": [
        "# get limited vocabulary from tokenizer word index\n",
        "import json\n",
        "vocab = {}\n",
        "for word, index in tokenizer.word_index.items():\n",
        "    if index <= vocab_size:\n",
        "        vocab[word] = index\n",
        "print(len(vocab))\n",
        "with open(\"tokenizer_dictionary.json\", \"w\") as file:\n",
        "    json.dump(vocab, file)"
      ],
      "metadata": {
        "colab": {
          "base_uri": "https://localhost:8080/"
        },
        "id": "UYD8iW-YuI5o",
        "outputId": "89eb85ad-e76d-4ebd-b10a-e3132343b9fa"
      },
      "execution_count": 61,
      "outputs": [
        {
          "output_type": "stream",
          "name": "stdout",
          "text": [
            "10000\n"
          ]
        }
      ]
    },
    {
      "cell_type": "code",
      "source": [
        "# convert sentences to integer sequences\n",
        "train_sequences = tokenizer.texts_to_sequences(train_sentences)\n",
        "val_sequences = tokenizer.texts_to_sequences(val_sentences)\n",
        "\n",
        "# pad integer sequences into fixed length\n",
        "max_length = 300\n",
        "padding_type = \"post\"\n",
        "trunc_type = \"post\"\n",
        "\n",
        "train_sequences= pad_sequences(train_sequences, maxlen=max_length, padding=padding_type, truncating=trunc_type)\n",
        "val_sequences = pad_sequences(val_sequences, maxlen=max_length, padding=padding_type, truncating=trunc_type)\n",
        "\n",
        "print(f\"Train sentences (vectorized): {train_sequences.shape}\")\n",
        "print(f\"Validation sentences (vectorized): {val_sequences.shape}\")"
      ],
      "metadata": {
        "colab": {
          "base_uri": "https://localhost:8080/"
        },
        "id": "0ulc7OMpuI3z",
        "outputId": "6cfd81f6-5694-4f23-cb60-4e0c1037578d"
      },
      "execution_count": 62,
      "outputs": [
        {
          "output_type": "stream",
          "name": "stdout",
          "text": [
            "Train sentences (vectorized): (32944, 300)\n",
            "Validation sentences (vectorized): (8236, 300)\n"
          ]
        }
      ]
    },
    {
      "cell_type": "code",
      "source": [
        "train_sequences"
      ],
      "metadata": {
        "colab": {
          "base_uri": "https://localhost:8080/"
        },
        "id": "NpEzo61bup8N",
        "outputId": "81ad4dca-3f32-4c24-89c9-f1c3d4faa9c7"
      },
      "execution_count": 25,
      "outputs": [
        {
          "output_type": "execute_result",
          "data": {
            "text/plain": [
              "array([[ 208, 2368, 2369, ...,    0,    0,    0],\n",
              "       [ 494,   37,    0, ...,    0,    0,    0],\n",
              "       [ 811, 4844,    0, ...,    0,    0,    0],\n",
              "       ...,\n",
              "       [  44,  506,  429, ...,    0,    0,    0],\n",
              "       [   5,  132,    3, ...,    0,    0,    0],\n",
              "       [ 812,  115,  116, ...,    0,    0,    0]], dtype=int32)"
            ]
          },
          "metadata": {},
          "execution_count": 25
        }
      ]
    },
    {
      "cell_type": "markdown",
      "source": [
        "**Model Building with ANN**"
      ],
      "metadata": {
        "id": "bsw4Ntatuto2"
      }
    },
    {
      "cell_type": "code",
      "source": [
        "import tensorflow as tf"
      ],
      "metadata": {
        "id": "MkU6sI5Hup43"
      },
      "execution_count": 26,
      "outputs": []
    },
    {
      "cell_type": "code",
      "source": [
        "embedding_dim = 200\n",
        "\n",
        "model = tf.keras.models.Sequential([\n",
        "    tf.keras.layers.Embedding(vocab_size, embedding_dim, input_length=max_length),\n",
        "    tf.keras.layers.Conv1D(128,5, activation='relu'),\n",
        "    tf.keras.layers.GlobalMaxPool1D(),\n",
        "    tf.keras.layers.Dense(64, activation='relu'),\n",
        "    tf.keras.layers.Dense(1, activation='sigmoid')\n",
        "])"
      ],
      "metadata": {
        "id": "7m1xzaOXup2Z"
      },
      "execution_count": 27,
      "outputs": []
    },
    {
      "cell_type": "code",
      "source": [
        "model.compile(loss=\"binary_crossentropy\",optimizer=\"adam\",metrics=[\"accuracy\"])"
      ],
      "metadata": {
        "id": "v-hr25bsuyiW"
      },
      "execution_count": 28,
      "outputs": []
    },
    {
      "cell_type": "code",
      "source": [
        "model.summary()"
      ],
      "metadata": {
        "colab": {
          "base_uri": "https://localhost:8080/"
        },
        "id": "Aj6W1ri-up1J",
        "outputId": "8f5db277-53eb-4e18-937f-36a215c87b08"
      },
      "execution_count": 29,
      "outputs": [
        {
          "output_type": "stream",
          "name": "stdout",
          "text": [
            "Model: \"sequential\"\n",
            "_________________________________________________________________\n",
            " Layer (type)                Output Shape              Param #   \n",
            "=================================================================\n",
            " embedding (Embedding)       (None, 300, 200)          2000000   \n",
            "                                                                 \n",
            " conv1d (Conv1D)             (None, 296, 128)          128128    \n",
            "                                                                 \n",
            " global_max_pooling1d (Glob  (None, 128)               0         \n",
            " alMaxPooling1D)                                                 \n",
            "                                                                 \n",
            " dense (Dense)               (None, 64)                8256      \n",
            "                                                                 \n",
            " dense_1 (Dense)             (None, 1)                 65        \n",
            "                                                                 \n",
            "=================================================================\n",
            "Total params: 2136449 (8.15 MB)\n",
            "Trainable params: 2136449 (8.15 MB)\n",
            "Non-trainable params: 0 (0.00 Byte)\n",
            "_________________________________________________________________\n"
          ]
        }
      ]
    },
    {
      "cell_type": "code",
      "source": [
        "model_history=model.fit(train_sequences,train_labels,epochs=5)"
      ],
      "metadata": {
        "colab": {
          "base_uri": "https://localhost:8080/"
        },
        "id": "l2BZDo8Zupy8",
        "outputId": "186a880d-6f9e-4a01-b571-f6bce140148f"
      },
      "execution_count": 30,
      "outputs": [
        {
          "output_type": "stream",
          "name": "stdout",
          "text": [
            "Epoch 1/5\n",
            "1030/1030 [==============================] - 42s 30ms/step - loss: 0.3293 - accuracy: 0.8719\n",
            "Epoch 2/5\n",
            "1030/1030 [==============================] - 10s 10ms/step - loss: 0.1998 - accuracy: 0.9215\n",
            "Epoch 3/5\n",
            "1030/1030 [==============================] - 9s 8ms/step - loss: 0.1118 - accuracy: 0.9575\n",
            "Epoch 4/5\n",
            "1030/1030 [==============================] - 8s 8ms/step - loss: 0.0670 - accuracy: 0.9754\n",
            "Epoch 5/5\n",
            "1030/1030 [==============================] - 8s 8ms/step - loss: 0.0465 - accuracy: 0.9840\n"
          ]
        }
      ]
    },
    {
      "cell_type": "code",
      "source": [
        "model_history.history"
      ],
      "metadata": {
        "colab": {
          "base_uri": "https://localhost:8080/"
        },
        "id": "R29ArNGpupwA",
        "outputId": "0359944c-bc8b-44cd-caed-6b0227b9d64c"
      },
      "execution_count": 31,
      "outputs": [
        {
          "output_type": "execute_result",
          "data": {
            "text/plain": [
              "{'loss': [0.3293475806713104,\n",
              "  0.19975708425045013,\n",
              "  0.11178919672966003,\n",
              "  0.06700871884822845,\n",
              "  0.04649033024907112],\n",
              " 'accuracy': [0.8719038367271423,\n",
              "  0.9214727878570557,\n",
              "  0.9574732780456543,\n",
              "  0.9754431843757629,\n",
              "  0.9840031862258911]}"
            ]
          },
          "metadata": {},
          "execution_count": 31
        }
      ]
    },
    {
      "cell_type": "code",
      "source": [
        "pd.DataFrame(model_history.history).plot()"
      ],
      "metadata": {
        "colab": {
          "base_uri": "https://localhost:8080/",
          "height": 447
        },
        "id": "x_rnntvQu-K5",
        "outputId": "3c10fab6-2c80-4c7f-815a-b0925b4c2056"
      },
      "execution_count": 32,
      "outputs": [
        {
          "output_type": "execute_result",
          "data": {
            "text/plain": [
              "<Axes: >"
            ]
          },
          "metadata": {},
          "execution_count": 32
        },
        {
          "output_type": "display_data",
          "data": {
            "text/plain": [
              "<Figure size 640x480 with 1 Axes>"
            ],
            "image/png": "[encoded data removed]"
          },
          "metadata": {}
        }
      ]
    },
    {
      "cell_type": "code",
      "source": [
        "model.evaluate(val_sequences, val_labels)"
      ],
      "metadata": {
        "colab": {
          "base_uri": "https://localhost:8080/"
        },
        "id": "XGJHRMXmvA5S",
        "outputId": "ec003a3c-87bd-40fe-8a62-b7020c8d371c"
      },
      "execution_count": 33,
      "outputs": [
        {
          "output_type": "stream",
          "name": "stdout",
          "text": [
            "258/258 [==============================] - 1s 4ms/step - loss: 0.5239 - accuracy: 0.8899\n"
          ]
        },
        {
          "output_type": "execute_result",
          "data": {
            "text/plain": [
              "[0.5239354372024536, 0.889873743057251]"
            ]
          },
          "metadata": {},
          "execution_count": 33
        }
      ]
    },
    {
      "cell_type": "code",
      "source": [
        "def predict(sentence):\n",
        "    sequences = tokenizer.texts_to_sequences([sentence])\n",
        "    padded_sequences = pad_sequences(sequences, maxlen=300, padding='post', truncating='post')\n",
        "    # get predictions for toxicity\n",
        "    predictions = model.predict(padded_sequences)\n",
        "    if model.predict(padded_sequences)[0]<0.5:\n",
        "        return 'Bad sequence'\n",
        "    else:\n",
        "        return 'Normal sequence'"
      ],
      "metadata": {
        "id": "gshC7VzyvpK7"
      },
      "execution_count": 40,
      "outputs": []
    },
    {
      "cell_type": "code",
      "source": [
        "print(predict('I hate you'))"
      ],
      "metadata": {
        "colab": {
          "base_uri": "https://localhost:8080/"
        },
        "id": "Ns0Gew_iv2Ig",
        "outputId": "3abafd54-c1d1-4dec-9c56-c94f32d91804"
      },
      "execution_count": 41,
      "outputs": [
        {
          "output_type": "stream",
          "name": "stdout",
          "text": [
            "1/1 [==============================] - 0s 17ms/step\n",
            "1/1 [==============================] - 0s 18ms/step\n",
            "Bad sequence\n"
          ]
        }
      ]
    },
    {
      "cell_type": "code",
      "source": [
        "print(predict('I love you'))"
      ],
      "metadata": {
        "colab": {
          "base_uri": "https://localhost:8080/"
        },
        "id": "RzUZQltZwPwS",
        "outputId": "001c3a7a-580b-4a59-f51a-ff9f99e959a4"
      },
      "execution_count": 42,
      "outputs": [
        {
          "output_type": "stream",
          "name": "stdout",
          "text": [
            "1/1 [==============================] - 0s 38ms/step\n",
            "1/1 [==============================] - 0s 28ms/step\n",
            "Normal sequence\n"
          ]
        }
      ]
    },
    {
      "cell_type": "code",
      "source": [
        "import h5py"
      ],
      "metadata": {
        "id": "y7Oh8T1KxQOk"
      },
      "execution_count": 43,
      "outputs": []
    },
    {
      "cell_type": "code",
      "source": [
        "model.save(\"/content/drive/MyDrive/DeepLearningl/LiveToxicComment.h5\")"
      ],
      "metadata": {
        "id": "W3eLa5oOwt3t"
      },
      "execution_count": 45,
      "outputs": []
    },
    {
      "cell_type": "code",
      "source": [],
      "metadata": {
        "id": "JtXAWzZJxRX_"
      },
      "execution_count": null,
      "outputs": []
    }
  ]
}